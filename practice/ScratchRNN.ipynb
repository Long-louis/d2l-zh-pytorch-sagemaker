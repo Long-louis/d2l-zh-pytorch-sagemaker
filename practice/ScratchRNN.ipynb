{
 "cells": [
  {
   "cell_type": "code",
   "execution_count": 1,
   "id": "c97e609c-6472-4857-9515-6097330df7b2",
   "metadata": {},
   "outputs": [],
   "source": [
    "%matplotlib inline\n",
    "import math\n",
    "import torch\n",
    "from torch import nn\n",
    "from torch.nn import functional as F\n",
    "from d2l import torch as d2l"
   ]
  },
  {
   "cell_type": "code",
   "execution_count": 2,
   "id": "fcff9648-b870-4524-92bd-483c13650230",
   "metadata": {},
   "outputs": [],
   "source": [
    "batch_size, num_steps = 32, 35\n",
    "train_iter, vocab = d2l.load_data_time_machine(batch_size, num_steps)"
   ]
  },
  {
   "cell_type": "markdown",
   "id": "b81a9e32-a937-4cfe-857d-664e979014b8",
   "metadata": {},
   "source": [
    "## 初始化模型参数"
   ]
  },
  {
   "cell_type": "code",
   "execution_count": 3,
   "id": "ee78a00c-b04e-4f37-a4ee-77025915e516",
   "metadata": {},
   "outputs": [],
   "source": [
    "def get_params(vocab_size, num_hiddens, device):\n",
    "    dim_inputs=dim_outputs=vocab_size\n",
    "    \n",
    "    #输出正态分布随机初始化参数\n",
    "    def normal(shape):\n",
    "        # 在深度学习中，常常需要对权重进行初始化。\n",
    "        # 乘以0.01是一种常见的权重初始化方法之一。\n",
    "        # 通过将权重初始化为较小的值，可以帮助避免梯度消失或爆炸的问题，\n",
    "        # 并且可以更快地收敛到较好的解决方案。\n",
    "        # 乘以0.01可以将权重的数值范围缩小，\n",
    "        # 从而使得激活函数的输入在其敏感区域内，\n",
    "        # 有助于提高模型的效果和稳定性\n",
    "        return torch.randn(size=shape, device=device) * 0.01\n",
    "    # hidden layer parameter\n",
    "    W_xh = normal((dim_inputs, num_hiddens))\n",
    "    W_hh = normal((num_hiddens, num_hiddens))\n",
    "    b_h = torch.zeros(num_hiddens, device=device)\n",
    "    # output layer parameter\n",
    "    W_hq = normal((num_hiddens, dim_outputs))\n",
    "    b_q = torch.zeros(dim_outputs, device=device)\n",
    "    # attach gradient\n",
    "    params = [W_xh, W_hh, b_h, W_hq, b_q]\n",
    "    for param in params:\n",
    "        param.requires_grad_(True)\n",
    "    return params"
   ]
  },
  {
   "cell_type": "markdown",
   "id": "30d7f06c-5b19-48cf-8687-52ca223b445e",
   "metadata": {},
   "source": [
    "当time step为0的时候，没有t-1层的隐状态用来计算。因此直接把第0层的隐状态参数定义出来。"
   ]
  },
  {
   "cell_type": "code",
   "execution_count": 4,
   "id": "6183c9ac-82c4-41d6-80fa-27e7cdda1443",
   "metadata": {},
   "outputs": [],
   "source": [
    "def rnn_init_hidden_state(batch_size, num_hiddens, device):\n",
    "    #返回一个元组，方便之后实现其他模型使用\n",
    "    return (torch.zeros((batch_size, num_hiddens), device=device), )"
   ]
  },
  {
   "cell_type": "markdown",
   "id": "55ee2683-9409-473e-b3f1-198e02942186",
   "metadata": {},
   "source": [
    "## 定义rnn forward function"
   ]
  },
  {
   "cell_type": "code",
   "execution_count": 5,
   "id": "b9c2d8d6-e78b-4534-b9cc-420c77ddf3fd",
   "metadata": {},
   "outputs": [],
   "source": [
    "def rnn_forward_fn(inputs, state, params):\n",
    "    # inputs的形状：(时间步数量，批量大小，词表大小)\n",
    "    W_xh, W_hh, b_h, W_hq, b_q = params\n",
    "    H, = state\n",
    "    outputs = []\n",
    "    # 对每一个时间步进行运算\n",
    "    for X in inputs:\n",
    "        H = torch.tanh(torch.mm(X, W_xh) + torch.mm(H, W_hh) + b_h)\n",
    "        Y = torch.mm(H, W_hq) + b_q\n",
    "        outputs.append(Y)\n",
    "        \n",
    "    # 返回的维度为（n*T，vocab_size）\n",
    "    return torch.cat(outputs, dim=0), (H,)\n",
    "        "
   ]
  },
  {
   "cell_type": "markdown",
   "id": "9206855d-c41f-41e6-a77f-2a110e6281c9",
   "metadata": {},
   "source": [
    "## 定义RNN"
   ]
  },
  {
   "cell_type": "code",
   "execution_count": 9,
   "id": "d54f2983-df4f-4e98-aa88-23c6d3d0f304",
   "metadata": {},
   "outputs": [],
   "source": [
    "class RNNModelScratch:\n",
    "    def __init__(self,vocab_size, num_hiddens,get_params, device, init_state, forward_fn):\n",
    "        self.vocab_size, self.num_hiddens = vocab_size, num_hiddens\n",
    "        self.params = get_params(vocab_size,num_hiddens, device)\n",
    "        self.init_state , self.forward_fn = init_state, forward_fn\n",
    "    \n",
    "    def __call__(self, X, state):\n",
    "        # X:n(batchsize)*T(num_steps),X.T是为了把time-step放到axis=0的位置上方便后续的遍历\n",
    "        X = F.one_hot(X.T, self.vocab_size).type(torch.float32)\n",
    "        return self.forward_fn(X, state, self.params)\n",
    "    \n",
    "    def begin_state(self, batch_size, device):\n",
    "        return self.init_state(batch_size, self.num_hiddens, device)"
   ]
  },
  {
   "cell_type": "markdown",
   "id": "17e5e2ca-e568-4274-9dab-75ff42f448a0",
   "metadata": {},
   "source": [
    "## 检查输出维度"
   ]
  },
  {
   "cell_type": "code",
   "execution_count": 10,
   "id": "b866dce1-4c8b-48cb-bc3a-20875b7c091d",
   "metadata": {},
   "outputs": [
    {
     "data": {
      "text/plain": [
       "(torch.Size([10, 28]), 1, torch.Size([2, 512]))"
      ]
     },
     "execution_count": 10,
     "metadata": {},
     "output_type": "execute_result"
    }
   ],
   "source": [
    "X = torch.arange(10).reshape((2, 5))\n",
    "num_hiddens = 512\n",
    "net = RNNModelScratch(len(vocab), num_hiddens, get_params, d2l.try_gpu(),\n",
    "                      rnn_init_hidden_state, rnn_forward_fn)\n",
    "state = net.begin_state(X.shape[0], d2l.try_gpu())\n",
    "Y, new_state = net(X.to(d2l.try_gpu()), state)\n",
    "Y.shape, len(new_state), new_state[0].shape"
   ]
  },
  {
   "cell_type": "markdown",
   "id": "5ab77ee1-5efb-445c-a92d-a42a467baced",
   "metadata": {},
   "source": [
    "# 编写预测函数"
   ]
  },
  {
   "cell_type": "code",
   "execution_count": 34,
   "id": "0f67bc76-1b6c-4fba-aba1-97f5d6715ace",
   "metadata": {},
   "outputs": [],
   "source": [
    "def predict_chapter8(prefix, num_predicts, net, vocab, device):\n",
    "    '''在prefix之后生成num_predicts个新字符'''\n",
    "    # 先把state设置为初始化,因为是对prefix这一个短字符串进行预测，所以batch设为1\n",
    "    state = net.begin_state(batch_size=1, device=device)\n",
    "    # 输出的第一项设为prefix第一项在vocab中的索引\n",
    "    outputs = [vocab[prefix[0]]]\n",
    "    # 获取每个time step模型的输入\n",
    "    get_input = lambda: torch.tensor([outputs[-1]],device=device).reshape((1, 1))\n",
    "    # 预热模型，根据用户提供的前缀来调节语言模型\n",
    "    for y in prefix[1:]:\n",
    "        _, state = net(get_input(), state)\n",
    "        outputs.append(vocab[y])\n",
    "    for _ in range(num_predicts):  # 预测num_preds步\n",
    "        y, state = net(get_input(), state)\n",
    "        print(y.shape)\n",
    "        # argmax函数返回y中每一行的最大值的索引。\n",
    "        # 参数dim=1表示在第1维度上进行操作，即对每一行进行操作。\n",
    "        outputs.append(int(y.argmax(dim=1).reshape(1)))\n",
    "    return ''.join([vocab.idx_to_token[i] for i in outputs])"
   ]
  },
  {
   "cell_type": "code",
   "execution_count": 35,
   "id": "3d87eb2c-8556-4819-b9c2-0da0967fca80",
   "metadata": {},
   "outputs": [
    {
     "name": "stdout",
     "output_type": "stream",
     "text": [
      "torch.Size([1, 28])\n",
      "torch.Size([1, 28])\n",
      "torch.Size([1, 28])\n",
      "torch.Size([1, 28])\n",
      "torch.Size([1, 28])\n",
      "torch.Size([1, 28])\n",
      "torch.Size([1, 28])\n",
      "torch.Size([1, 28])\n",
      "torch.Size([1, 28])\n",
      "torch.Size([1, 28])\n"
     ]
    },
    {
     "data": {
      "text/plain": [
       "'time traveller           '"
      ]
     },
     "execution_count": 35,
     "metadata": {},
     "output_type": "execute_result"
    }
   ],
   "source": [
    "predict_chapter8('time traveller ', 10, net, vocab, d2l.try_gpu())"
   ]
  },
  {
   "cell_type": "markdown",
   "id": "e1d6b38a-2f51-4cfe-8774-1dadf87517c0",
   "metadata": {},
   "source": [
    "# 编写训练函数"
   ]
  },
  {
   "cell_type": "markdown",
   "id": "658a21a7-196a-4a90-8aa6-57e30e937c6c",
   "metadata": {
    "origin_pos": 50
   },
   "source": [
    "## 梯度裁剪 grad clipping\n",
    "\n",
    "### 主要公式:\n",
    "\n",
    "**$$\\mathbf{g} \\leftarrow \\min\\left(1, \\frac{\\theta}{\\|\\mathbf{g}\\|}\\right) \\mathbf{g}.$$**\n",
    "\n",
    "对于长度为$T$的序列，我们在迭代中计算这$T$个时间步上的梯度，\n",
    "将会在反向传播过程中产生长度为$\\mathcal{O}(T)$的矩阵乘法链。\n",
    "如 :numref:`sec_numerical_stability`所述，\n",
    "当$T$较大时，它可能导致数值不稳定，\n",
    "例如可能导致梯度爆炸或梯度消失。\n",
    "因此，循环神经网络模型往往需要额外的方式来支持稳定训练。\n",
    "\n",
    "一般来说，当解决优化问题时，我们对模型参数采用更新步骤。\n",
    "假定在向量形式的$\\mathbf{x}$中，\n",
    "或者在小批量数据的负梯度$\\mathbf{g}$方向上。\n",
    "例如，使用$\\eta > 0$作为学习率时，在一次迭代中，\n",
    "我们将$\\mathbf{x}$更新为$\\mathbf{x} - \\eta \\mathbf{g}$。\n",
    "如果我们进一步假设目标函数$f$表现良好，\n",
    "即函数$f$在常数$L$下是*利普希茨连续的*（Lipschitz continuous）。\n",
    "也就是说，对于任意$\\mathbf{x}$和$\\mathbf{y}$我们有：\n",
    "\n",
    "$$|f(\\mathbf{x}) - f(\\mathbf{y})| \\leq L \\|\\mathbf{x} - \\mathbf{y}\\|.$$\n",
    "\n",
    "在这种情况下，我们可以安全地假设：\n",
    "如果我们通过$\\eta \\mathbf{g}$更新参数向量，则\n",
    "\n",
    "$$|f(\\mathbf{x}) - f(\\mathbf{x} - \\eta\\mathbf{g})| \\leq L \\eta\\|\\mathbf{g}\\|,$$\n",
    "\n",
    "这意味着我们不会观察到超过$L \\eta \\|\\mathbf{g}\\|$的变化。\n",
    "这既是坏事也是好事。\n",
    "坏的方面，它限制了取得进展的速度；\n",
    "好的方面，它限制了事情变糟的程度，尤其当我们朝着错误的方向前进时。\n",
    "\n",
    "有时梯度可能很大，从而优化算法可能无法收敛。\n",
    "我们可以通过降低$\\eta$的学习率来解决这个问题。\n",
    "但是如果我们很少得到大的梯度呢？\n",
    "在这种情况下，这种做法似乎毫无道理。\n",
    "一个流行的替代方案是通过将梯度$\\mathbf{g}$投影回给定半径\n",
    "（例如$\\theta$）的球来裁剪梯度$\\mathbf{g}$。\n",
    "如下式：\n",
    "\n",
    "(**$$\\mathbf{g} \\leftarrow \\min\\left(1, \\frac{\\theta}{\\|\\mathbf{g}\\|}\\right) \\mathbf{g}.$$**)\n",
    "\n",
    "通过这样做，我们知道梯度范数永远不会超过$\\theta$，\n",
    "并且更新后的梯度完全与$\\mathbf{g}$的原始方向对齐。\n",
    "它还有一个值得拥有的副作用，\n",
    "即限制任何给定的小批量数据（以及其中任何给定的样本）对参数向量的影响，\n",
    "这赋予了模型一定程度的稳定性。\n",
    "梯度裁剪提供了一个快速修复梯度爆炸的方法，\n",
    "虽然它并不能完全解决问题，但它是众多有效的技术之一。\n",
    "\n",
    "下面我们定义一个函数来裁剪模型的梯度，\n",
    "模型是从零开始实现的模型或由高级API构建的模型。\n",
    "我们在此计算了所有模型参数的梯度的范数。\n"
   ]
  },
  {
   "cell_type": "code",
   "execution_count": 2,
   "id": "1be4eeb1-7f37-4e0f-aabe-3ef28c2d2eab",
   "metadata": {},
   "outputs": [],
   "source": [
    "def grad_clipping(net, theta):\n",
    "    '''同时兼容从零开始实现和简洁实现的RNN'''\n",
    "    if isinstance(net, nn.Module):\n",
    "        params = [p for p in net.parameters() if p.requires_grad]\n",
    "    else:\n",
    "        params = net.params\n",
    "        \n",
    "    norm = torch.sqrt(sum(torch.sum((p.grad ** 2)) for p in params))\n",
    "    \n",
    "    if norm > theta:\n",
    "        for param in params:\n",
    "            param.grad[:] *= theta / norm "
   ]
  },
  {
   "cell_type": "markdown",
   "id": "4e25fbfa-75cf-4288-9d5a-6c25636f4366",
   "metadata": {},
   "source": [
    "## 训练"
   ]
  },
  {
   "cell_type": "markdown",
   "id": "3e007de3-8761-4653-886f-413e02f1e616",
   "metadata": {},
   "source": [
    "**注意事项：**\n",
    "\n",
    "1. 对序列化的训练数据的不同采样方法（随机采样和顺序分区）将导致隐状态初始化的差异。\n",
    "1. 我们在**更新模型参数**之前裁剪梯度。这样的操作的目的是，即使训练过程中某个点上发生了梯度爆炸，也能保证模型不会发散。\n",
    "1. 我们用困惑度来评价模型。这样的度量确保了不同长度的序列具有可比性。\n",
    "\n",
    "**困惑度：**$$ exp\\left(-\\frac{1}{n} \\sum_{t=1}^{n}logP(x_t|x_{t-1}, \\ldots, x_1)\\right)$$"
   ]
  },
  {
   "cell_type": "markdown",
   "id": "d913fd01",
   "metadata": {},
   "source": [
    "具体来说，当使用顺序分区(`use_random_iter = False`)时，\n",
    "我们只在每个迭代周期的开始位置初始化隐状态。\n",
    "由于下一个小批量数据中的第$i$个子序列样本\n",
    "与当前第$i$个子序列样本相邻，\n",
    "因此当前小批量数据最后一个样本的隐状态，\n",
    "将用于初始化下一个小批量数据第一个样本的隐状态。\n",
    "这样，存储在隐状态中的序列的历史信息\n",
    "可以在一个迭代周期内流经相邻的子序列。\n",
    "然而，在任何一点隐状态的计算，\n",
    "都依赖于同一迭代周期中前面所有的小批量数据，\n",
    "这使得梯度计算变得复杂。\n",
    "为了降低计算量，在处理任何一个小批量数据之前，\n",
    "我们先分离梯度，使得隐状态的梯度计算总是限制在一个小批量数据的时间步内。\n",
    "\n",
    "当使用随机抽样(`use_random_iter = True`)时，因为每个样本都是在一个随机位置抽样的，\n",
    "因此需要为每个迭代周期重新初始化隐状态。\n",
    "`updater`是更新模型参数的常用函数。\n",
    "它既可以是从头开始实现的`d2l.sgd`函数，\n",
    "也可以是深度学习框架中内置的优化函数。"
   ]
  },
  {
   "cell_type": "code",
   "execution_count": 2,
   "id": "fac33c0b",
   "metadata": {},
   "outputs": [],
   "source": [
    "def train_epoch_chapter8(net, train_iter, loss, updater, device, use_random_iter):\n",
    "    state, timer = None, d2l.Timer()\n",
    "    metric = d2l.Accumulator(2)  # 训练损 失之和，token数量\n",
    "    for X, Y in train_iter:\n",
    "        if state is None or use_random_iter:\n",
    "            # 如使用随机迭代，需要在每个小批量更新前初始化隐藏状态\n",
    "            state = net.begin_state(batch_size=X.shape[0], device=device)\n",
    "        else:\n",
    "            if isinstance(net, nn.Module) and not isinstance(state, tuple):\n",
    "                # 如使用相邻批量采样，且模型为PyTorch模型，需将隐藏状态从计算图分离\n",
    "                state.detach_()\n",
    "            else:\n",
    "                # 使用相邻批量采样，且模型为自定义的模型(返回的类型为元组)\n",
    "                for s in state:\n",
    "                    s.detach_()\n",
    "        y = Y.T.reshape(-1)  # 转置后把time-step放到axis=0的位置上方便后续的遍历，然后拉直成一个向量\n",
    "        X, y = X.to(device), y.to(device)\n",
    "        y_hat, state = net(X, state)\n",
    "        l = loss(y_hat, y.long()).mean()  # y和y_hat都是拉直的向量，所以这里的loss计算方式跟MLP一样\n",
    "        if isinstance(updater, torch.optim.Optimizer):\n",
    "            updater.zero_grad()\n",
    "            l.backward()\n",
    "            grad_clipping(net, 1)\n",
    "            updater.step()\n",
    "        else:\n",
    "            l.backward()\n",
    "            grad_clipping(net, 1)\n",
    "            # 因为已经调用了mean函数\n",
    "            updater(batch_size=1)\n",
    "\n",
    "        metric.add(l * y.numel(), y.numel())\n",
    "        # mertric[0]是损失之和，metric[1]是token数量,二者相除就是交叉熵损失\n",
    "    return math.exp(metric[0] / metric[1]), metric[1] / timer.stop()"
   ]
  },
  {
   "cell_type": "code",
   "execution_count": null,
   "id": "909d02ba",
   "metadata": {},
   "outputs": [],
   "source": [
    "def train_chapter8(\n",
    "    net, train_iter, vocab, lr, num_epochs, device, use_random_iter=False\n",
    "):\n",
    "    loss = nn.CrossEntropyLoss()\n",
    "    animator = d2l.Animator(\n",
    "        xlabel=\"epoch\", ylabel=\"perplexity\", legend=[\"train\"], xlim=[10, num_epochs]\n",
    "    )\n",
    "    # 初始化更新函数\n",
    "    if isinstance(net, nn.Module):\n",
    "        updater = torch.optim.SGD(net.parameters(), lr)\n",
    "    else:\n",
    "        updater = lambda batch_size: d2l.sgd(net.params, lr, batch_size)\n",
    "    # 定义预测函数\n",
    "    predict = lambda prefix: predict_chapter8(prefix, 50, net, vocab, device)\n",
    "    # 训练模型\n",
    "    for epoch in range(num_epochs):\n",
    "        perplexity, speed = train_epoch_chapter8(\n",
    "            net, train_iter, loss, updater, device, use_random_iter\n",
    "        )\n",
    "        if (epoch + 1) % 10 == 0:\n",
    "            print(predict(\"time traveller\"))\n",
    "            animator.add(epoch + 1, [perplexity])\n",
    "    print(f'困惑度 {perplexity:.1f}, {speed:.1f} tokens/秒 {str(device)}')\n",
    "    print(predict(\"time traveller\"))\n",
    "    print(predict(\"traveller\"))"
   ]
  },
  {
   "cell_type": "markdown",
   "id": "d1951bd0",
   "metadata": {},
   "source": [
    "# 开始训练"
   ]
  },
  {
   "cell_type": "code",
   "execution_count": null,
   "id": "68a1fec9",
   "metadata": {},
   "outputs": [],
   "source": [
    "num_epochs, lr = 500, 1\n",
    "train_chapter8(net, train_iter, vocab, lr, num_epochs, d2l.try_gpu())"
   ]
  }
 ],
 "metadata": {
  "kernelspec": {
   "display_name": "d2l",
   "language": "python",
   "name": "python3"
  },
  "language_info": {
   "codemirror_mode": {
    "name": "ipython",
    "version": 3
   },
   "file_extension": ".py",
   "mimetype": "text/x-python",
   "name": "python",
   "nbconvert_exporter": "python",
   "pygments_lexer": "ipython3",
   "version": "3.9.16"
  }
 },
 "nbformat": 4,
 "nbformat_minor": 5
}
