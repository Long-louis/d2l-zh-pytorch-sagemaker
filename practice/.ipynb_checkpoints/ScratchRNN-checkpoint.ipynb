{
 "cells": [
  {
   "cell_type": "code",
   "execution_count": 1,
   "id": "c97e609c-6472-4857-9515-6097330df7b2",
   "metadata": {},
   "outputs": [],
   "source": [
    "%matplotlib inline\n",
    "import math\n",
    "import torch\n",
    "from torch import nn\n",
    "from torch.nn import functional as F\n",
    "from d2l import torch as d2l"
   ]
  },
  {
   "cell_type": "code",
   "execution_count": 2,
   "id": "fcff9648-b870-4524-92bd-483c13650230",
   "metadata": {},
   "outputs": [],
   "source": [
    "batch_size, num_steps = 32, 35\n",
    "train_iter, vocab = d2l.load_data_time_machine(batch_size, num_steps)"
   ]
  },
  {
   "cell_type": "markdown",
   "id": "b81a9e32-a937-4cfe-857d-664e979014b8",
   "metadata": {},
   "source": [
    "初始化模型参数"
   ]
  },
  {
   "cell_type": "code",
   "execution_count": 4,
   "id": "ee78a00c-b04e-4f37-a4ee-77025915e516",
   "metadata": {},
   "outputs": [],
   "source": [
    "def get_params(vocab_size, num_hiddens, device):\n",
    "    dim_inputs=dim_outputs=vocab_size\n",
    "    \n",
    "    #输出正态分布随机初始化参数\n",
    "    def normal(shape):\n",
    "        #在深度学习中，常常需要对权重进行初始化。\n",
    "        #乘以0.01是一种常见的权重初始化方法之一。\n",
    "        #通过将权重初始化为较小的值，可以帮助避免梯度消失或爆炸的问题，\n",
    "        #并且可以更快地收敛到较好的解决方案。\n",
    "        #乘以0.01可以将权重的数值范围缩小，\n",
    "        #从而使得激活函数的输入在其敏感区域内，\n",
    "        #有助于提高模型的效果和稳定性\n",
    "        return torch.randn(size=shape, device=device) * 0.01\n",
    "    #hidden layer parameter\n",
    "    W_xh = normal((dim_inputs, num_hiddens))\n",
    "    W_hh = normal((num_hiddens, num_hiddens))\n",
    "    b_h = torch.zeros(num_hiddens, device=device)\n",
    "    #output layer parameter\n",
    "    W_hq = normal((num_hiddens, dim_outputs))\n",
    "    b_q = torch.zeros(dim_outputs, device = device)\n",
    "    #attach gradient\n",
    "    "
   ]
  },
  {
   "cell_type": "code",
   "execution_count": null,
   "id": "58038e6c-8ac3-479f-a24c-fde54899b9c1",
   "metadata": {},
   "outputs": [],
   "source": []
  }
 ],
 "metadata": {
  "kernelspec": {
   "display_name": "d2l:Python",
   "language": "python",
   "name": "conda-env-d2l-py"
  },
  "language_info": {
   "codemirror_mode": {
    "name": "ipython",
    "version": 3
   },
   "file_extension": ".py",
   "mimetype": "text/x-python",
   "name": "python",
   "nbconvert_exporter": "python",
   "pygments_lexer": "ipython3",
   "version": "3.9.16"
  }
 },
 "nbformat": 4,
 "nbformat_minor": 5
}
